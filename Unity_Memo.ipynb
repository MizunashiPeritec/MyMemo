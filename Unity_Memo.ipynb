{
  "nbformat": 4,
  "nbformat_minor": 0,
  "metadata": {
    "colab": {
      "provenance": [],
      "toc_visible": true,
      "authorship_tag": "ABX9TyOSgosYlJztgnf7kx1OMacG",
      "include_colab_link": true
    },
    "kernelspec": {
      "name": "python3",
      "display_name": "Python 3"
    },
    "language_info": {
      "name": "python"
    }
  },
  "cells": [
    {
      "cell_type": "markdown",
      "metadata": {
        "id": "view-in-github",
        "colab_type": "text"
      },
      "source": [
        "<a href=\"https://colab.research.google.com/github/MizunashiPeritec/MyMemo/blob/main/Unity_Memo.ipynb\" target=\"_parent\"><img src=\"https://colab.research.google.com/assets/colab-badge.svg\" alt=\"Open In Colab\"/></a>"
      ]
    },
    {
      "cell_type": "markdown",
      "source": [
        "# Emacs キーバインド\n",
        "Awesome Emacs Keymap\n",
        "(https://marketplace.visualstudio.com/items?itemName=tuttieee.emacs-mcx)\n",
        "\n",
        "###移動\n",
        "* <font color=red>C-f　　前方に移動 (前方文字)</font>\n",
        "* <font color=red>C-b　　後方へ移動(後方文字)</font>\n",
        "* <font color=red>C-n　　次の行に移動する (次の行)</font>\n",
        "* <font color=red>C-p　　前の行に移動する (前の行)</font>\n",
        "* <font color=red>C-a　　行の先頭に移動 (行の先頭に移動)</font>\n",
        "* <font color=red>C-e　　行末に移動 (行末に移動)</font>\n",
        "* M-f　　1 単語単位で進む (前方ワード)\n",
        "* M-b　　1ワード単位で後方に移動する(バックワードワード)\n",
        "* M-m　　現在の行の最初の空白以外の文字に移動\n",
        "* C-v　　1画面単位で下にスクロールする\n",
        "* M-v　　1画面単位で上にスクロールする\n",
        "* M-g g　　行にジャンプ\n",
        "* M-g n　　次のエラーにジャンプ\n",
        "* M-g p　　前のエラーにジャンプ\n",
        "* C-l\n",
        "\n",
        "### 検索\n",
        "* C-s　前方検索\n",
        "* C-r　後方検索\n",
        "\n",
        "### 編集\n",
        "* C-d　　削除権限 (DEL)\n",
        "* C-h　　左に削除 (バックスペース)\n",
        "* M-d　　キルワード(キルワード)\n",
        "* M-Bksp　　左の単語を殺す(後方の殺す言葉)\n",
        "* C-k　　現在のカーソルから行末まで強制終了 (キル行)\n",
        "* C-S-Bksp　　行全体を強制終了(行全体を強制終了)\n",
        "* C-w　　キル領域\n",
        "* M-w　　領域をキルリングにコピーする\n",
        "* C-y　　ヤンク\n",
        "* M-y　　ヤンクポップ\n",
        "* C-o　　オープンライン\n",
        "* C-j　　改行\n",
        "* C-m　　改行\n",
        "* C-x C-o　　周りの空白行を削除する (空白行の削除)\n",
        "* C-x h　　すべて選択\n",
        "* C-:　　行のコメントのインとアウトの切り替え\n",
        "* M-:　　領域のコメントインとコメントアウトの切り替え\n",
        "* C-x C-l (M-l)　　小文字に変換します\n",
        "* C-x C-u (M-u)　　大文字に変換\n",
        "* M-c　　タイトルケースに変換\n",
        "\n",
        "### マーク\n",
        "* <font color=red>C-SPC　　マークをポイントに設定</font>\n",
        "* C-SPC C-SPC　　マークを設定し、アクティブにせずにマークリングに押し込む\n",
        "* C-u C-SPC　　マークがあった場所にポイントを移動し、以前のマークのリングからマークを復元\n",
        "* C-x C-x　　ポイントにマークを設定し、アクティブにします。次に、マークがあった場所にポイントを移動(交換ポイントアンドマーク)。\n",
        "\n",
        "### その他\n",
        "* C-g (ESC)　　キャンセル\n",
        "* C-' (M-/)　　インテリセンスの提案\n",
        "* M-x　　コマンドパレットを開く\n",
        "* C-M-SPC　　サイドバーの表示を切り替える\n",
        "* C-x z　　禅モードの切り替え\n",
        "* C-x C-c　　ウィンドウを閉じる (保存バッファ - キル端末)\n",
        "\n",
        "### ファイル\n",
        "* C-x C-f　　ファイルをクイックオープンする\n",
        "* <font color=red>C-x C-s　　セーブ</font>\n",
        "* C-x C-w　　名前を付けて保存\n",
        "* C-x s　　すべてのファイルを保存\n",
        "* C-x C-n　　新しいウィンドウを開く\n",
        "\n",
        "### タブ/バッファ操作コマンド\n",
        "* C-x b　　別のオープンバッファに切り替える\n",
        "* C-x k　　現在のタブを閉じる (バッファー)\n",
        "* C-x 0　　現在のグループの編集者を閉じます。\n",
        "* C-x 1　　他の (分割) グループの編集者を閉じます。\n",
        "* C-x 2　　エディターの水平分割\n",
        "* C-x 3　　縦割りエディター\n",
        "* C-x 4　　分割レイアウトの切り替え(垂直から水平)\n",
        "* C-x o　　他の分割エディターにフォーカスする\n",
        "* C-x　　LEFT\t前のタブ (前のバッファー) を選択します。\n",
        "* C-x　　RIGHT\t次のタブ (次のバッファー) を選択します。\n",
        "\n",
        "### Sexp\n",
        "* C-M-f　　バランスのとれた式の上を進む (前方 sexp)\n",
        "* C-M-b　　バランスのとれたエクスプレッションの上を後方に移動する (後方 sexp)\n",
        "* C-M-S-2　　次のバランス式(mark-sexp)の末尾の後にマークを設定します。これはポイントを移動しません。\n",
        "* C-M-k　　バランスのとれたエクスプレッションを前方に強制終了 (kill-sexp)\n",
        "* C-M-Bksp　　バランスのとれた式を後方にキルする(後方キル-sexp)\n"
      ],
      "metadata": {
        "id": "zJ9UOruYwVkO"
      }
    },
    {
      "cell_type": "markdown",
      "source": [
        "# Unity記録\n",
        "\n",
        "## シーン上のプレハブをスクリプトから変更しても保存されない\n",
        "```\n",
        "PrefabUtility.ApplyPrefabInstance([GameObject], InteractionMode.AutomatedAction);\n",
        "```"
      ],
      "metadata": {
        "id": "gLglwmz3AJq0"
      }
    },
    {
      "cell_type": "markdown",
      "source": [
        "# VSCode ショートカットキー\n",
        "\n",
        "* C-. クイックフィックス\n",
        "* C-S-f プロジェクト内検索\n",
        "* Tab M-← ジャンプもとに戻る"
      ],
      "metadata": {
        "id": "8wStbxaJQFrU"
      }
    },
    {
      "cell_type": "code",
      "source": [],
      "metadata": {
        "id": "VuFpanpImSEt"
      },
      "execution_count": null,
      "outputs": []
    }
  ]
}