{
  "cells": [
    {
      "cell_type": "markdown",
      "metadata": {
        "id": "view-in-github",
        "colab_type": "text"
      },
      "source": [
        "<a href=\"https://colab.research.google.com/github/MizunashiPeritec/MyMemo/blob/main/RemoveBackground.ipynb\" target=\"_parent\"><img src=\"https://colab.research.google.com/assets/colab-badge.svg\" alt=\"Open In Colab\"/></a>"
      ]
    },
    {
      "cell_type": "markdown",
      "metadata": {
        "id": "jv3HLZ5MZZ7L"
      },
      "source": [
        "# 画像背景削除ライブラリテスト\n",
        "\n",
        "下記ライブラリを動作させる\\\n",
        "https://github.com/danielgatis/rembg\n",
        "\n",
        "使い方\\\n",
        "Gitで開いているならタイトルの上にある「Open in Colab」をクリックして\\\n",
        "Google colab で開く\n",
        "\n",
        "Google Colab で以下のpythonプログラムを上から順に実行する。\\\n",
        "(スクリプトにカーソルを合わせた時の実行マークを押していく)\\\n",
        "一番下のプログラムを実行し、少し待てば背景を削除した画像が表示される"
      ]
    },
    {
      "cell_type": "code",
      "execution_count": null,
      "metadata": {
        "id": "KuEHl4cqSnor"
      },
      "outputs": [],
      "source": [
        "!pip install rembg"
      ]
    },
    {
      "cell_type": "code",
      "execution_count": null,
      "metadata": {
        "id": "9w4jbWVRbStJ"
      },
      "outputs": [],
      "source": [
        "from google.colab import output\n",
        "from rembg import remove\n",
        "import cv2\n",
        "import base64\n",
        "from io import BytesIO\n",
        "from PIL import Image\n",
        "import numpy as np\n",
        "import IPython\n",
        "\n",
        "def run(img):\n",
        "  try:\n",
        "    decimg = base64.b64decode(img.split(',')[1], validate=True)\n",
        "    decimg = Image.open(BytesIO(decimg))\n",
        "    decimg = np.array(decimg, dtype=np.uint8); \n",
        "    decimg = cv2.cvtColor(decimg, cv2.COLOR_BGR2RGB)\n",
        "\n",
        "    out_img = remove(decimg)\n",
        "\n",
        "    _, encimg = cv2.imencode(\".jpg\", out_img, [int(cv2.IMWRITE_JPEG_QUALITY), 80])\n",
        "    img_str = encimg.tobytes()\n",
        "    img_str = \"data:image/jpeg;base64,\" + base64.b64encode(img_str).decode('utf-8')\n",
        "    return IPython.display.JSON({'result': img_str, 'isCorrect' : True})\n",
        "  except Exception as e:\n",
        "    return IPython.display.JSON({'result': e.message, 'isCorrect' : False})\n",
        "\n",
        "output.register_callback('notebook.run', run)"
      ]
    },
    {
      "cell_type": "code",
      "execution_count": null,
      "metadata": {
        "id": "Rlwve7oTYvOs"
      },
      "outputs": [],
      "source": [
        "from IPython.display import display, Javascript\n",
        "from google.colab.output import eval_js\n",
        "\n",
        "def use_cam(quality=0.8):\n",
        "  js = Javascript('''\n",
        "    async function useCam(quality) {\n",
        "      const div = document.createElement('div');\n",
        "      document.body.appendChild(div);\n",
        "      //video element\n",
        "      const video = document.createElement('video');\n",
        "      video.style.display = 'None';\n",
        "      const stream = await navigator.mediaDevices.getUserMedia({video: true});\n",
        "      div.appendChild(video);\n",
        "      video.srcObject = stream;\n",
        "      await video.play();\n",
        "\n",
        "      //canvas for display. frame rate is depending on display size and jpeg quality.\n",
        "      display_size = 640 \n",
        "      const src_canvas = document.createElement('canvas');\n",
        "      src_canvas.width  = display_size;\n",
        "      src_canvas.height = display_size * video.videoHeight / video.videoWidth;\n",
        "      const src_canvasCtx = src_canvas.getContext('2d');\n",
        "      src_canvasCtx.translate(src_canvas.width, 0);\n",
        "      src_canvasCtx.scale(-1, 1);\n",
        "      div.appendChild(src_canvas);\n",
        "\n",
        "      const dst_canvas = document.createElement('canvas');\n",
        "      dst_canvas.width  = src_canvas.width;\n",
        "      dst_canvas.height = src_canvas.height;\n",
        "      const dst_canvasCtx = dst_canvas.getContext('2d');\n",
        "      div.appendChild(dst_canvas);\n",
        "\n",
        "      dst_canvasCtx.fillStyle = \"black\"\n",
        "      dst_canvasCtx.fillRect(0, 0, dst_canvas.width, dst_canvas.height);\n",
        "\n",
        "      //exit button\n",
        "      const btn_div = document.createElement('div');\n",
        "      document.body.appendChild(btn_div);\n",
        "      const exit_btn = document.createElement('button');\n",
        "      exit_btn.textContent = 'Exit';\n",
        "      var exit_flg = true\n",
        "      exit_btn.onclick = function() {exit_flg = false};\n",
        "      btn_div.appendChild(exit_btn);\n",
        "\n",
        "      //debug\n",
        "      const log = document.createElement('div');\n",
        "      log.textContent = \"test\";\n",
        "      document.body.appendChild(log);\n",
        "\n",
        "      // Resize the output to fit the video element.\n",
        "      google.colab.output.setIframeHeight(document.documentElement.scrollHeight, true);\n",
        "\n",
        "      var send_num = 0\n",
        "      // loop\n",
        "      _canvasUpdate();\n",
        "      async function _canvasUpdate() {\n",
        "            src_canvasCtx.drawImage(video, 0, 0, video.videoWidth, video.videoHeight, 0, 0, src_canvas.width, src_canvas.height);\n",
        "                        \n",
        "            if (send_num < 1){\n",
        "                send_num += 1\n",
        "                const img = src_canvas.toDataURL(quality);\n",
        "\n",
        "                const result = google.colab.kernel.invokeFunction('notebook.run', [img], {});\n",
        "                result.then(value => {\n",
        "                     \n",
        "                      parse = JSON.parse(JSON.stringify(value))[\"data\"]\n",
        "                      parse = JSON.parse(JSON.stringify(parse))[\"application/json\"]\n",
        "\n",
        "                      isCorrect = JSON.parse(JSON.stringify(parse))[\"isCorrect\"]                      \n",
        "                      returns = JSON.parse(JSON.stringify(parse))[\"result\"]\n",
        "\n",
        "                      if(isCorrect) {\n",
        "                            var image = new Image()\n",
        "                            image.src = returns\n",
        "                            image.onload = function(){dst_canvasCtx.drawImage(image, 0, 0)}\n",
        "                            log.textContent = \"Correct\"\n",
        "                      } else {\n",
        "                            dst_canvasCtx.fillStyle = \"black\"\n",
        "                            dst_canvas.fillRect(0, 0, dst_canvas.width, dst_canvas.height);\n",
        "                            log.textContent = returns\n",
        "                      }\n",
        "\n",
        "                      send_num -= 1\n",
        "                })\n",
        "            }\n",
        "            \n",
        "            if (exit_flg){\n",
        "                requestAnimationFrame(_canvasUpdate);   \n",
        "            }else{\n",
        "                stream.getVideoTracks()[0].stop();\n",
        "            }\n",
        "      };\n",
        "    }\n",
        "    ''')\n",
        "  display(js)\n",
        "  data = eval_js('useCam({})'.format(quality))"
      ]
    },
    {
      "cell_type": "code",
      "execution_count": null,
      "metadata": {
        "id": "vAepVk_aY_r7"
      },
      "outputs": [],
      "source": [
        "use_cam()"
      ]
    }
  ],
  "metadata": {
    "colab": {
      "provenance": [],
      "gpuType": "T4",
      "authorship_tag": "ABX9TyP2xrcz7ALHuR7jWe3UmumV",
      "include_colab_link": true
    },
    "kernelspec": {
      "display_name": "Python 3",
      "name": "python3"
    },
    "language_info": {
      "name": "python"
    }
  },
  "nbformat": 4,
  "nbformat_minor": 0
}